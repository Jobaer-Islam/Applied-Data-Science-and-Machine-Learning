{
 "cells": [
  {
   "cell_type": "code",
   "execution_count": 1,
   "id": "f1700931",
   "metadata": {},
   "outputs": [
    {
     "name": "stdout",
     "output_type": "stream",
     "text": [
      "Nested: [1, [2, [3, 4], 5], ['a', ['b', 'c']]]\n",
      "Flattened: [1, 2, 3, 4, 5, 'a', 'b', 'c']\n"
     ]
    }
   ],
   "source": [
    "# A nested list and a small recursive pretty-printer.\n",
    "\n",
    "nested_list = [1, [2, [3, 4], 5], [\"a\", [\"b\", \"c\"]]]\n",
    "\n",
    "def flatten(lst):\n",
    "    out = []\n",
    "    for item in lst:\n",
    "        if isinstance(item, list):\n",
    "            out.extend(flatten(item))\n",
    "        else:\n",
    "            out.append(item)\n",
    "    return out\n",
    "\n",
    "if __name__ == '__main__':\n",
    "    print(\"Nested:\", nested_list)\n",
    "    print(\"Flattened:\", flatten(nested_list))"
   ]
  },
  {
   "cell_type": "code",
   "execution_count": null,
   "id": "5074b202",
   "metadata": {},
   "outputs": [],
   "source": []
  }
 ],
 "metadata": {
  "kernelspec": {
   "display_name": "Python 3",
   "language": "python",
   "name": "python3"
  },
  "language_info": {
   "codemirror_mode": {
    "name": "ipython",
    "version": 3
   },
   "file_extension": ".py",
   "mimetype": "text/x-python",
   "name": "python",
   "nbconvert_exporter": "python",
   "pygments_lexer": "ipython3",
   "version": "3.12.1"
  }
 },
 "nbformat": 4,
 "nbformat_minor": 5
}
