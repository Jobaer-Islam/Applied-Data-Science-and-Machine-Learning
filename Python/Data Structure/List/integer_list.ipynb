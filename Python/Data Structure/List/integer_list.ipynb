{
 "cells": [
  {
   "cell_type": "code",
   "execution_count": 1,
   "id": "88aa57a1",
   "metadata": {},
   "outputs": [
    {
     "name": "stdout",
     "output_type": "stream",
     "text": [
      "Integer list: [1, 2, 3, 5, 8, 13, 21]\n",
      "Sum: 53\n"
     ]
    }
   ],
   "source": [
    "# A simple list of integers and a small demo function.\n",
    "\n",
    "integer_list = [1, 2, 3, 5, 8, 13, 21]\n",
    "\n",
    "def sum_integers(lst):\n",
    "    \"\"\"Return the sum of integers in the list.\"\"\"\n",
    "    return sum(lst)\n",
    "\n",
    "if __name__ == '__main__':\n",
    "    print(\"Integer list:\", integer_list)\n",
    "    print(\"Sum:\", sum_integers(integer_list))"
   ]
  },
  {
   "cell_type": "code",
   "execution_count": null,
   "id": "3f86f3fd",
   "metadata": {},
   "outputs": [],
   "source": []
  }
 ],
 "metadata": {
  "kernelspec": {
   "display_name": "Python 3",
   "language": "python",
   "name": "python3"
  },
  "language_info": {
   "codemirror_mode": {
    "name": "ipython",
    "version": 3
   },
   "file_extension": ".py",
   "mimetype": "text/x-python",
   "name": "python",
   "nbconvert_exporter": "python",
   "pygments_lexer": "ipython3",
   "version": "3.12.1"
  }
 },
 "nbformat": 4,
 "nbformat_minor": 5
}
