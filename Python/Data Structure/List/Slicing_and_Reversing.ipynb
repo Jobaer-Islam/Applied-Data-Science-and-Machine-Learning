{
 "cells": [
  {
   "cell_type": "code",
   "execution_count": 1,
   "id": "8a5ab407",
   "metadata": {},
   "outputs": [
    {
     "name": "stdout",
     "output_type": "stream",
     "text": [
      "Original: [0, 1, 2, 3, 4, 5, 6, 7, 8, 9]\n",
      "First 3: [0, 1, 2]\n",
      "Last 3: [7, 8, 9]\n",
      "Every 2nd: [0, 2, 4, 6, 8]\n",
      "Reversed: [9, 8, 7, 6, 5, 4, 3, 2, 1, 0]\n"
     ]
    }
   ],
   "source": [
    "# Demonstrate common slicing operations.\n",
    "\n",
    "seq = list(range(10))\n",
    "\n",
    "if __name__ == '__main__':\n",
    "    print(\"Original:\", seq)\n",
    "    print(\"First 3:\", seq[:3])\n",
    "    print(\"Last 3:\", seq[-3:])\n",
    "    print(\"Every 2nd:\", seq[::2])\n",
    "    print(\"Reversed:\", seq[::-1])"
   ]
  },
  {
   "cell_type": "code",
   "execution_count": null,
   "id": "d600e6fe",
   "metadata": {},
   "outputs": [],
   "source": []
  }
 ],
 "metadata": {
  "kernelspec": {
   "display_name": "Python 3",
   "language": "python",
   "name": "python3"
  },
  "language_info": {
   "codemirror_mode": {
    "name": "ipython",
    "version": 3
   },
   "file_extension": ".py",
   "mimetype": "text/x-python",
   "name": "python",
   "nbconvert_exporter": "python",
   "pygments_lexer": "ipython3",
   "version": "3.12.1"
  }
 },
 "nbformat": 4,
 "nbformat_minor": 5
}
