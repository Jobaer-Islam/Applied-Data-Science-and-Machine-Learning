{
 "cells": [
  {
   "cell_type": "code",
   "execution_count": 1,
   "id": "8c0134f7",
   "metadata": {},
   "outputs": [
    {
     "name": "stdout",
     "output_type": "stream",
     "text": [
      "Squares: [0, 1, 4, 9, 16, 25, 36, 49, 64, 81]\n",
      "Evens times two: [0, 4, 8, 12, 16, 20, 24, 28, 32, 36]\n"
     ]
    }
   ],
   "source": [
    "\n",
    "# Examples of list comprehensions: squares and filtered values.\n",
    "\n",
    "squares = [x*x for x in range(10)]\n",
    "evens_times_two = [x*2 for x in range(20) if x % 2 == 0]\n",
    "\n",
    "if __name__ == '__main__':\n",
    "    print(\"Squares:\", squares)\n",
    "    print(\"Evens times two:\", evens_times_two)"
   ]
  },
  {
   "cell_type": "code",
   "execution_count": null,
   "id": "69c0c310",
   "metadata": {},
   "outputs": [],
   "source": []
  }
 ],
 "metadata": {
  "kernelspec": {
   "display_name": "Python 3",
   "language": "python",
   "name": "python3"
  },
  "language_info": {
   "codemirror_mode": {
    "name": "ipython",
    "version": 3
   },
   "file_extension": ".py",
   "mimetype": "text/x-python",
   "name": "python",
   "nbconvert_exporter": "python",
   "pygments_lexer": "ipython3",
   "version": "3.12.1"
  }
 },
 "nbformat": 4,
 "nbformat_minor": 5
}
