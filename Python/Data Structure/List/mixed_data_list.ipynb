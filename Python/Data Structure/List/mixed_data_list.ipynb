{
 "cells": [
  {
   "cell_type": "code",
   "execution_count": 1,
   "id": "7cbafd9e",
   "metadata": {},
   "outputs": [
    {
     "name": "stdout",
     "output_type": "stream",
     "text": [
      "Mixed list description: [('int', 42), ('str', 'hello'), ('float', 3.14), ('bool', True), ('NoneType', None)]\n"
     ]
    }
   ],
   "source": [
    "# A list that contains mixed data types.\n",
    "\n",
    "mixed_list = [42, \"hello\", 3.14, True, None]\n",
    "\n",
    "def describe_list(lst):\n",
    "    return [(type(x).__name__, x) for x in lst]\n",
    "\n",
    "if __name__ == '__main__':\n",
    "    print(\"Mixed list description:\", describe_list(mixed_list))"
   ]
  },
  {
   "cell_type": "code",
   "execution_count": null,
   "id": "e81413ec",
   "metadata": {},
   "outputs": [],
   "source": []
  }
 ],
 "metadata": {
  "kernelspec": {
   "display_name": "Python 3",
   "language": "python",
   "name": "python3"
  },
  "language_info": {
   "codemirror_mode": {
    "name": "ipython",
    "version": 3
   },
   "file_extension": ".py",
   "mimetype": "text/x-python",
   "name": "python",
   "nbconvert_exporter": "python",
   "pygments_lexer": "ipython3",
   "version": "3.12.1"
  }
 },
 "nbformat": 4,
 "nbformat_minor": 5
}
