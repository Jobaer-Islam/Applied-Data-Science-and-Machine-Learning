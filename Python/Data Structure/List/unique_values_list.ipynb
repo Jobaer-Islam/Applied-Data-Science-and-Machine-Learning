{
 "cells": [
  {
   "cell_type": "code",
   "execution_count": 4,
   "id": "262313b0",
   "metadata": {},
   "outputs": [
    {
     "name": "stdout",
     "output_type": "stream",
     "text": [
      "Original: [3, 1, 4, 1, 5, 9, 3, 5]\n",
      "Unique (order preserved): [3, 1, 4, 5, 9]\n"
     ]
    }
   ],
   "source": [
    "# Create a list with duplicates and show how to get unique values preserving order.\n",
    "\n",
    "dup_list = [3, 1, 4, 1, 5, 9, 3, 5]\n",
    "\n",
    "def unique_preserve_order(lst):\n",
    "    seen = set()\n",
    "    out = []\n",
    "    for x in lst:\n",
    "        if x not in seen:\n",
    "            seen.add(x)\n",
    "            out.append(x)\n",
    "    return out\n",
    "\n",
    "if __name__ == '__main__':\n",
    "    print(\"Original:\", dup_list)\n",
    "    print(\"Unique (order preserved):\", unique_preserve_order(dup_list))"
   ]
  },
  {
   "cell_type": "code",
   "execution_count": null,
   "id": "f5f7c9e9",
   "metadata": {},
   "outputs": [],
   "source": []
  }
 ],
 "metadata": {
  "kernelspec": {
   "display_name": "Python 3",
   "language": "python",
   "name": "python3"
  },
  "language_info": {
   "codemirror_mode": {
    "name": "ipython",
    "version": 3
   },
   "file_extension": ".py",
   "mimetype": "text/x-python",
   "name": "python",
   "nbconvert_exporter": "python",
   "pygments_lexer": "ipython3",
   "version": "3.12.1"
  }
 },
 "nbformat": 4,
 "nbformat_minor": 5
}
