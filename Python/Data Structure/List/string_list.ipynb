{
 "cells": [
  {
   "cell_type": "code",
   "execution_count": 3,
   "id": "907c6969",
   "metadata": {},
   "outputs": [
    {
     "name": "stdout",
     "output_type": "stream",
     "text": [
      "Joined: apple, banana, cherry, date\n"
     ]
    }
   ],
   "source": [
    "# A list of strings and a function that joins them.\n",
    "\n",
    "string_list = [\"apple\", \"banana\", \"cherry\", \"date\"]\n",
    "\n",
    "def join_with_comma(lst):\n",
    "    return \", \".join(lst)\n",
    "\n",
    "if __name__ == '__main__':\n",
    "    print(\"Joined:\", join_with_comma(string_list))"
   ]
  },
  {
   "cell_type": "code",
   "execution_count": null,
   "id": "3af70595",
   "metadata": {},
   "outputs": [],
   "source": []
  }
 ],
 "metadata": {
  "kernelspec": {
   "display_name": "Python 3",
   "language": "python",
   "name": "python3"
  },
  "language_info": {
   "codemirror_mode": {
    "name": "ipython",
    "version": 3
   },
   "file_extension": ".py",
   "mimetype": "text/x-python",
   "name": "python",
   "nbconvert_exporter": "python",
   "pygments_lexer": "ipython3",
   "version": "3.12.1"
  }
 },
 "nbformat": 4,
 "nbformat_minor": 5
}
