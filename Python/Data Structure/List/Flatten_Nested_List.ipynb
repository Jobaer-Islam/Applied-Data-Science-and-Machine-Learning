{
 "cells": [
  {
   "cell_type": "code",
   "execution_count": 1,
   "id": "e1b2f340",
   "metadata": {},
   "outputs": [
    {
     "name": "stdout",
     "output_type": "stream",
     "text": [
      "Example: [1, (2, 3), [4, [5, 6], (7,)], 8]\n",
      "Flattened versions: [1, 2, 3, 4, 5, 6, 7, 8]\n"
     ]
    }
   ],
   "source": [
    "# Utility to flatten arbitrarily nested lists (handles tuples too).\n",
    "\n",
    "def flatten_iterable(it):\n",
    "    flatten_list = []\n",
    "    for x in it:\n",
    "        if isinstance(x, (list, tuple)):\n",
    "            flatten_list.extend(flatten_iterable(x))\n",
    "        else:\n",
    "            flatten_list.append(x)\n",
    "    return flatten_list\n",
    "\n",
    "example = [1, (2, 3), [4, [5, 6], (7,)], 8]\n",
    "\n",
    "if __name__ == '__main__':\n",
    "    print(\"Example:\", example)\n",
    "    print(\"Flattened versions:\", flatten_iterable(example))"
   ]
  },
  {
   "cell_type": "code",
   "execution_count": null,
   "id": "69d568fd",
   "metadata": {},
   "outputs": [],
   "source": []
  }
 ],
 "metadata": {
  "kernelspec": {
   "display_name": "Python 3",
   "language": "python",
   "name": "python3"
  },
  "language_info": {
   "codemirror_mode": {
    "name": "ipython",
    "version": 3
   },
   "file_extension": ".py",
   "mimetype": "text/x-python",
   "name": "python",
   "nbconvert_exporter": "python",
   "pygments_lexer": "ipython3",
   "version": "3.12.1"
  }
 },
 "nbformat": 4,
 "nbformat_minor": 5
}
