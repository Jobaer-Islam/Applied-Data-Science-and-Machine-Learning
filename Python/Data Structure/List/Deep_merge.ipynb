{
 "cells": [
  {
   "cell_type": "code",
   "execution_count": 1,
   "id": "922dc5f3",
   "metadata": {},
   "outputs": [
    {
     "name": "stdout",
     "output_type": "stream",
     "text": [
      "List A: [{'id': 1, 'tags': ['a', 'b'], 'count': 2}, {'id': 2, 'tags': ['c'], 'count': 1}]\n",
      "List B: [{'id': 1, 'tags': ['d'], 'count': 3}, {'id': 3, 'tags': ['e'], 'count': 4}]\n",
      "Merged: [{'id': 1, 'tags': ['a', 'b', 'd'], 'count': 5}, {'id': 2, 'tags': ['c'], 'count': 1}, {'id': 3, 'tags': ['e'], 'count': 4}]\n"
     ]
    }
   ],
   "source": [
    "\n",
    "# Merge lists of dictionaries by concatenating list-values and updating scalars.\n",
    "\n",
    "list_a = [{\"id\":1, \"tags\":[\"a\",\"b\"], \"count\":2}, {\"id\":2, \"tags\":[\"c\"], \"count\":1}]\n",
    "list_b = [{\"id\":1, \"tags\":[\"d\"], \"count\":3}, {\"id\":3, \"tags\":[\"e\"], \"count\":4}]\n",
    "\n",
    "def deep_merge_by_id(a, b):\n",
    "    merged = {}\n",
    "    for d in a + b:\n",
    "        _id = d.get(\"id\")\n",
    "        if _id not in merged:\n",
    "            merged[_id] = {**d}\n",
    "            # ensure tags exist\n",
    "            merged[_id].setdefault(\"tags\", list(merged[_id].get(\"tags\", [])))\n",
    "        else:\n",
    "            # merge tags\n",
    "            merged[_id][\"tags\"] = merged[_id].get(\"tags\", []) + d.get(\"tags\", [])\n",
    "            # sum counts if present\n",
    "            if \"count\" in d or \"count\" in merged[_id]:\n",
    "                merged[_id][\"count\"] = merged[_id].get(\"count\", 0) + d.get(\"count\", 0)\n",
    "    return list(merged.values())\n",
    "\n",
    "if __name__ == '__main__':\n",
    "    print(\"List A:\", list_a)\n",
    "    print(\"List B:\", list_b)\n",
    "    print(\"Merged:\", deep_merge_by_id(list_a, list_b))"
   ]
  }
 ],
 "metadata": {
  "kernelspec": {
   "display_name": "Python 3",
   "language": "python",
   "name": "python3"
  },
  "language_info": {
   "codemirror_mode": {
    "name": "ipython",
    "version": 3
   },
   "file_extension": ".py",
   "mimetype": "text/x-python",
   "name": "python",
   "nbconvert_exporter": "python",
   "pygments_lexer": "ipython3",
   "version": "3.12.1"
  }
 },
 "nbformat": 4,
 "nbformat_minor": 5
}
