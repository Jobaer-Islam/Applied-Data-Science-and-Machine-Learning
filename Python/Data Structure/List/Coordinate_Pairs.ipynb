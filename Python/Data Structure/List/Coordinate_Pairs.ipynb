{
 "cells": [
  {
   "cell_type": "markdown",
   "id": "03ce07eb",
   "metadata": {},
   "source": [
    "<bordinate Pairs\n",
    "A list of coordinate pairs and a helper to compute centroids."
   ]
  },
  {
   "cell_type": "code",
   "execution_count": 1,
   "id": "939eb598",
   "metadata": {},
   "outputs": [
    {
     "name": "stdout",
     "output_type": "stream",
     "text": [
      "Coordinates: [(0, 0), (2, 2), (4, 0), (2, -2)]\n",
      "Centroid: (2.0, 0.0)\n"
     ]
    }
   ],
   "source": [
    "# Coordinate Pairs.py\n",
    "# A list of coordinate pairs and a helper to compute centroids.\n",
    "\n",
    "coords = [(0,0), (2,2), (4,0), (2, -2)]\n",
    "\n",
    "def centroid(points):\n",
    "    if not points:\n",
    "        return None\n",
    "    xs = [p[0] for p in points]\n",
    "    ys = [p[1] for p in points]\n",
    "    return (sum(xs)/len(xs), sum(ys)/len(ys))\n",
    "\n",
    "if __name__ == '__main__':\n",
    "    print(\"Coordinates:\", coords)\n",
    "    print(\"Centroid:\", centroid(coords))"
   ]
  },
  {
   "cell_type": "code",
   "execution_count": null,
   "id": "705f5880",
   "metadata": {},
   "outputs": [],
   "source": []
  }
 ],
 "metadata": {
  "kernelspec": {
   "display_name": "Python 3",
   "language": "python",
   "name": "python3"
  },
  "language_info": {
   "codemirror_mode": {
    "name": "ipython",
    "version": 3
   },
   "file_extension": ".py",
   "mimetype": "text/x-python",
   "name": "python",
   "nbconvert_exporter": "python",
   "pygments_lexer": "ipython3",
   "version": "3.12.1"
  }
 },
 "nbformat": 4,
 "nbformat_minor": 5
}
