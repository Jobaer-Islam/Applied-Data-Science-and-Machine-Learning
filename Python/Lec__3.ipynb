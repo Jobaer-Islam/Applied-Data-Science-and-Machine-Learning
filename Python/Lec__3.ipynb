{
 "cells": [
  {
   "cell_type": "code",
   "execution_count": 2,
   "id": "2578893b",
   "metadata": {},
   "outputs": [
    {
     "name": "stdout",
     "output_type": "stream",
     "text": [
      "Jan    100\n",
      "Feb    120\n",
      "Mar     90\n",
      "Name: Sales, dtype: int64\n",
      "Index:  ['Jan', 'Feb', 'Mar'] | dtype:  int64 | name:  Sales\n"
     ]
    }
   ],
   "source": [
    "import pandas as pd\n",
    "import numpy as np\n",
    "\n",
    "# ---Series: create with values + custom index + name ----\n",
    "s = pd.Series([100, 120, 90], index = [\"Jan\", \"Feb\", \"Mar\"], name = \"Sales\")\n",
    "print(s)\n",
    "print(\"Index: \", s.index.to_list(), \"| dtype: \", s.dtype, \"| name: \", s.name)"
   ]
  },
  {
   "cell_type": "code",
   "execution_count": 3,
   "id": "a1ce6ec0",
   "metadata": {},
   "outputs": [
    {
     "name": "stdout",
     "output_type": "stream",
     "text": [
      "Feb =  120\n",
      "pos 0 =  100\n"
     ]
    }
   ],
   "source": [
    "# Access by label vs by position\n",
    "print(\"Feb = \", s.loc[\"Feb\"])  # label-based\n",
    "print(\"pos 0 = \", s.iloc[0])   # position-based"
   ]
  },
  {
   "cell_type": "code",
   "execution_count": 8,
   "id": "ef129268",
   "metadata": {},
   "outputs": [
    {
     "name": "stdout",
     "output_type": "stream",
     "text": [
      "  Month  Sales  Cost\n",
      "0   Jan    100    60\n",
      "1   Feb    120    70\n",
      "2   Mar     90    55\n",
      "3   Apr    140    88\n",
      "<class 'pandas.core.frame.DataFrame'>\n",
      "RangeIndex: 4 entries, 0 to 3\n",
      "Data columns (total 3 columns):\n",
      " #   Column  Non-Null Count  Dtype \n",
      "---  ------  --------------  ----- \n",
      " 0   Month   4 non-null      object\n",
      " 1   Sales   4 non-null      Int64 \n",
      " 2   Cost    4 non-null      Int64 \n",
      "dtypes: Int64(2), object(1)\n",
      "memory usage: 236.0+ bytes\n",
      "None\n",
      "dtypes: \n",
      " Month    object\n",
      "Sales     Int64\n",
      "Cost      Int64\n",
      "dtype: object\n"
     ]
    }
   ],
   "source": [
    "#----DataFrame: dict of column ----\n",
    "df = pd.DataFrame({\n",
    "    \"Month\": [\"Jan\", \"Feb\", \"Mar\", \"Apr\"],\n",
    "    \"Sales\": pd.Series([100, 120, 90, 140], dtype=\"Int64\"),\n",
    "    \"Cost\": pd.Series([60, 70, 55, 88], dtype=\"Int64\")\n",
    "})\n",
    "print(df)\n",
    "print(df.info())\n",
    "print(\"dtypes: \\n\", df.dtypes)"
   ]
  },
  {
   "cell_type": "code",
   "execution_count": 7,
   "id": "32df1d47",
   "metadata": {},
   "outputs": [
    {
     "name": "stdout",
     "output_type": "stream",
     "text": [
      "  Month  Profit\n",
      "0   Jan      40\n",
      "1   Feb      50\n",
      "2   Mar      35\n",
      "3   Apr      52\n",
      "100 100\n"
     ]
    }
   ],
   "source": [
    "# Column as Series; assignments create new columns\n",
    "df[\"Profit\"] = df[\"Sales\"]-df[\"Cost\"]\n",
    "print(df[[\"Month\", \"Profit\"]])\n",
    "\n",
    "# Indexing: .loc (labels), .iloc(positions)\n",
    "print(df.loc[0, \"Sales\"], df.iloc[0,1])"
   ]
  },
  {
   "cell_type": "code",
   "execution_count": null,
   "id": "5e8132ce",
   "metadata": {},
   "outputs": [],
   "source": []
  }
 ],
 "metadata": {
  "kernelspec": {
   "display_name": "Python 3",
   "language": "python",
   "name": "python3"
  },
  "language_info": {
   "codemirror_mode": {
    "name": "ipython",
    "version": 3
   },
   "file_extension": ".py",
   "mimetype": "text/x-python",
   "name": "python",
   "nbconvert_exporter": "python",
   "pygments_lexer": "ipython3",
   "version": "3.12.1"
  }
 },
 "nbformat": 4,
 "nbformat_minor": 5
}
