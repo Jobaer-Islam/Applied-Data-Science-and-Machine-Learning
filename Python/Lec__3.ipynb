{
 "cells": [
  {
   "cell_type": "code",
   "execution_count": 2,
   "id": "2578893b",
   "metadata": {},
   "outputs": [
    {
     "name": "stdout",
     "output_type": "stream",
     "text": [
      "Jan    100\n",
      "Feb    120\n",
      "Mar     90\n",
      "Name: Sales, dtype: int64\n",
      "Index:  ['Jan', 'Feb', 'Mar'] | dtype:  int64 | name:  Sales\n"
     ]
    }
   ],
   "source": [
    "import pandas as pd\n",
    "import numpy as np\n",
    "\n",
    "# ---Series: create with values + custom index + name ----\n",
    "s = pd.Series([100, 120, 90], index = [\"Jan\", \"Feb\", \"Mar\"], name = \"Sales\")\n",
    "print(s)\n",
    "print(\"Index: \", s.index.to_list(), \"| dtype: \", s.dtype, \"| name: \", s.name)"
   ]
  },
  {
   "cell_type": "code",
   "execution_count": 3,
   "id": "a1ce6ec0",
   "metadata": {},
   "outputs": [
    {
     "name": "stdout",
     "output_type": "stream",
     "text": [
      "Feb =  120\n",
      "pos 0 =  100\n"
     ]
    }
   ],
   "source": [
    "# Access by label vs by position\n",
    "print(\"Feb = \", s.loc[\"Feb\"])  # label-based\n",
    "print(\"pos 0 = \", s.iloc[0])   # position-based"
   ]
  },
  {
   "cell_type": "code",
   "execution_count": null,
   "id": "ef129268",
   "metadata": {},
   "outputs": [
    {
     "name": "stdout",
     "output_type": "stream",
     "text": [
      "  Month  Sales  Cost\n",
      "0   Jan    100    60\n",
      "1   Feb    120    70\n",
      "2   Mar     90    55\n",
      "3   Apr    140    88\n",
      "<class 'pandas.core.frame.DataFrame'>\n",
      "RangeIndex: 4 entries, 0 to 3\n",
      "Data columns (total 3 columns):\n",
      " #   Column  Non-Null Count  Dtype \n",
      "---  ------  --------------  ----- \n",
      " 0   Month   4 non-null      object\n",
      " 1   Sales   4 non-null      Int64 \n",
      " 2   Cost    4 non-null      Int64 \n",
      "dtypes: Int64(2), object(1)\n",
      "memory usage: 236.0+ bytes\n",
      "None\n",
      "dtypes: \n",
      " Month    object\n",
      "Sales     Int64\n",
      "Cost      Int64\n",
      "dtype: object\n"
     ]
    }
   ],
   "source": [
    "#----DataFrame: dict of column ----\n",
    "df = pd.DataFrame({\n",
    "    \"Month\": [\"Jan\", \"Feb\", \"Mar\", \"Apr\"],\n",
    "    \"Sales\": pd.Series([100, 120, 90, 140], dtype=\"Int64\"),\n",
    "    \"Cost\": pd.Series([60, 70, 55, 88], dtype=\"Int64\")\n",
    "})\n",
    "print(df)\n",
    "print(\"dtypes: \\n\", df.dtypes)"
   ]
  },
  {
   "cell_type": "code",
   "execution_count": 16,
   "id": "e3572a02",
   "metadata": {},
   "outputs": [
    {
     "name": "stdout",
     "output_type": "stream",
     "text": [
      "<class 'pandas.core.frame.DataFrame'>\n",
      "RangeIndex: 4 entries, 0 to 3\n",
      "Data columns (total 4 columns):\n",
      " #   Column  Non-Null Count  Dtype \n",
      "---  ------  --------------  ----- \n",
      " 0   Month   4 non-null      object\n",
      " 1   Sales   4 non-null      Int64 \n",
      " 2   Cost    4 non-null      Int64 \n",
      " 3   Profit  4 non-null      Int64 \n",
      "dtypes: Int64(3), object(1)\n",
      "memory usage: 272.0+ bytes\n",
      "None\n",
      "-----------------------------------------------------\n",
      "  Month  Sales  Cost  Profit\n",
      "0   Jan    100    60      40\n",
      "1   Feb    120    70      50\n",
      "2   Mar     90    55      35\n",
      "3   Apr    140    88      52\n",
      "-----------------------------------------------------\n",
      "  Month  Sales  Cost  Profit\n",
      "0   Jan    100    60      40\n",
      "1   Feb    120    70      50\n",
      "2   Mar     90    55      35\n",
      "3   Apr    140    88      52\n",
      "-----------------------------------------------------\n",
      "           Sales       Cost    Profit\n",
      "count        4.0        4.0       4.0\n",
      "mean       112.5      68.25     44.25\n",
      "std    22.173558  14.568802  8.098354\n",
      "min         90.0       55.0      35.0\n",
      "25%         97.5      58.75     38.75\n",
      "50%        110.0       65.0      45.0\n",
      "75%        125.0       74.5      50.5\n",
      "max        140.0       88.0      52.0\n"
     ]
    }
   ],
   "source": [
    "print(df.info())\n",
    "print(\"-----------------------------------------------------\")\n",
    "print(df.head())\n",
    "print(\"-----------------------------------------------------\")\n",
    "print(df.tail())\n",
    "print(\"-----------------------------------------------------\")\n",
    "print(df.describe())"
   ]
  },
  {
   "cell_type": "code",
   "execution_count": 24,
   "id": "5b3e65b9",
   "metadata": {},
   "outputs": [
    {
     "name": "stdout",
     "output_type": "stream",
     "text": [
      "  Month  Profit\n",
      "0   Jan      40\n",
      "1   Feb      50\n",
      "2   Mar      35\n",
      "3   Apr      52\n",
      "-----------------------------------------------------\n",
      "100 100\n"
     ]
    }
   ],
   "source": [
    "# Column as Series; assignments create new columns\n",
    "df[\"Profit\"] = df[\"Sales\"]-df[\"Cost\"]\n",
    "print(df[[\"Month\", \"Profit\"]])\n",
    "print(\"-----------------------------------------------------\")\n",
    "# Indexing: .loc (labels), .iloc(positions)\n",
    "print(df.loc[0, \"Sales\"], df.iloc[0,1])"
   ]
  },
  {
   "cell_type": "code",
   "execution_count": null,
   "id": "8ac70ef6",
   "metadata": {},
   "outputs": [
    {
     "name": "stdout",
     "output_type": "stream",
     "text": [
      "    A    B\n",
      "r0  1  999\n",
      "r1 -1   20\n",
      "r2  2  999\n",
      "r3  0   40\n"
     ]
    },
    {
     "name": "stderr",
     "output_type": "stream",
     "text": [
      "/tmp/ipykernel_1465/82363749.py:5: SettingWithCopyWarning: \n",
      "A value is trying to be set on a copy of a slice from a DataFrame.\n",
      "Try using .loc[row_indexer,col_indexer] = value instead\n",
      "\n",
      "See the caveats in the documentation: https://pandas.pydata.org/pandas-docs/stable/user_guide/indexing.html#returning-a-view-versus-a-copy\n",
      "  df[df[\"A\"]>0][\"B\"] = 999     # may modify only a temporary copy\n"
     ]
    }
   ],
   "source": [
    "import pandas as pd\n",
    "df = pd.DataFrame({\"A\":[1,-1,2,0], \"B\":[10,20,30,40]}, index=[\"r0\",\"r1\",\"r2\",\"r3\"])\n",
    "\n",
    "#  chained indexing (risky)\n",
    "df[df[\"A\"]>0][\"B\"] = 999     # may modify only a temporary copy\n",
    "\n",
    "#  one-step loc (safe)\n",
    "df.loc[df[\"A\"]>0, \"B\"] = 999\n",
    "print(df)\n"
   ]
  },
  {
   "cell_type": "code",
   "execution_count": 5,
   "id": "b95fb1e5",
   "metadata": {},
   "outputs": [
    {
     "name": "stdout",
     "output_type": "stream",
     "text": [
      "x    12\n",
      "y    21\n",
      "dtype: int64\n"
     ]
    },
    {
     "data": {
      "text/plain": [
       "x    11\n",
       "y    22\n",
       "dtype: int64"
      ]
     },
     "execution_count": 5,
     "metadata": {},
     "output_type": "execute_result"
    }
   ],
   "source": [
    "import pandas as pd\n",
    "\n",
    "a = pd.Series([10, 20], index=[\"x\", \"y\"])\n",
    "b = pd.Series([1,  2],  index=[\"y\", \"x\"])\n",
    "c = a + b\n",
    "print(c)\n",
    "\n",
    "a = pd.Series([10,20], index=[\"x\",\"y\"])\n",
    "b = pd.Series([1,2],   index=[\"x\",\"y\"])\n",
    "a + b\n",
    "# x: NaN (no 'x' in b), y: 22, z: NaN (no 'z' in a)\n"
   ]
  },
  {
   "cell_type": "code",
   "execution_count": 6,
   "id": "09ea7d1e",
   "metadata": {},
   "outputs": [
    {
     "name": "stdout",
     "output_type": "stream",
     "text": [
      "\n",
      "DF1 shape=(3, 3)\n",
      "     id name  score\n",
      "0  101    A   88.5\n",
      "1  102    B   92.0\n",
      "2  103    C   79.5\n",
      "\n",
      "DF2 shape=(3, 2)\n",
      "    step  value\n",
      "0   1.0   10.0\n",
      "1   2.0   11.5\n",
      "2   3.0   13.2\n",
      "\n",
      "DF3 shape=(6, 2)\n",
      "    t    signal\n",
      "0  0  0.000000\n",
      "1  1  0.951057\n",
      "2  2  0.587785\n",
      "3  3 -0.587785\n",
      "4  4 -0.951057\n",
      "\n",
      "DF4 shape=(4, 2)\n",
      "         date  y\n",
      "0 2025-01-01  5\n",
      "1 2025-01-02  7\n",
      "2 2025-01-03  6\n",
      "3 2025-01-04  9\n",
      "\n",
      "DF5 shape=(2, 2)\n",
      "          city   pop\n",
      "0       Dhaka  22.5\n",
      "1  Chattogram   2.6\n"
     ]
    }
   ],
   "source": [
    "import numpy as np\n",
    "import pandas as pd\n",
    "\n",
    "# 1) From dict of lists/Series\n",
    "df1 = pd.DataFrame({\n",
    "    \"id\": pd.Series([101, 102, 103], dtype=\"Int64\"),\n",
    "    \"name\": pd.Series([\"A\", \"B\", \"C\"], dtype=\"string\"),\n",
    "    \"score\": [88.5, 92.0, 79.5]\n",
    "})\n",
    "\n",
    "# 2) From array + columns\n",
    "arr = np.array([[1, 10.0], [2, 11.5], [3, 13.2]])\n",
    "df2 = pd.DataFrame(arr, columns=[\"step\", \"value\"])\n",
    "\n",
    "# 3) From range / date_range\n",
    "df3 = pd.DataFrame({\n",
    "    \"t\": range(6),  # 0..5\n",
    "    \"signal\": np.sin(np.linspace(0, 2*np.pi, 6))\n",
    "})\n",
    "\n",
    "dates = pd.date_range(\"2025-01-01\", periods=4, freq=\"D\")\n",
    "df4 = pd.DataFrame({\"date\": dates, \"y\": [5, 7, 6, 9]})\n",
    "\n",
    "# 4) From List of dicts (records)\n",
    "records = [{\"city\": \"Dhaka\", \"pop\": 22.5}, {\"city\": \"Chattogram\", \"pop\": 2.6}]\n",
    "df5 = pd.DataFrame.from_records(records)\n",
    "\n",
    "# Display info of all DataFrames\n",
    "for i, d in enumerate([df1, df2, df3, df4, df5], start=1):\n",
    "    print(f\"\\nDF{i} shape={d.shape}\\n\", d.head())\n"
   ]
  },
  {
   "cell_type": "code",
   "execution_count": 7,
   "id": "b2099d9c",
   "metadata": {},
   "outputs": [
    {
     "name": "stdout",
     "output_type": "stream",
     "text": [
      "shape: (4, 4)\n",
      "columns: ['A', 'B', 'C', 'D']\n",
      "dtypes:\n",
      " A             Int64\n",
      "B           float64\n",
      "C    string[python]\n",
      "D    datetime64[ns]\n",
      "dtype: object\n",
      "\n",
      "HEAD:\n",
      "       A     B  C          D\n",
      "0     1  10.0  x 2025-01-01\n",
      "1     2  12.5  y 2025-01-02\n",
      "2  <NA>   9.5  y        NaT\n",
      "\n",
      "INFO:\n",
      "<class 'pandas.core.frame.DataFrame'>\n",
      "RangeIndex: 4 entries, 0 to 3\n",
      "Data columns (total 4 columns):\n",
      " #   Column  Non-Null Count  Dtype         \n",
      "---  ------  --------------  -----         \n",
      " 0   A       3 non-null      Int64         \n",
      " 1   B       4 non-null      float64       \n",
      " 2   C       4 non-null      string        \n",
      " 3   D       3 non-null      datetime64[ns]\n",
      "dtypes: Int64(1), datetime64[ns](1), float64(1), string(1)\n",
      "memory usage: 432.0 bytes\n",
      "\n",
      "DESCRIBE (numeric):\n",
      "               A          B                    D\n",
      "count       3.0   4.000000                    3\n",
      "mean   2.333333  10.750000  2025-01-02 08:00:00\n",
      "min         1.0   9.500000  2025-01-01 00:00:00\n",
      "25%         1.5   9.875000  2025-01-01 12:00:00\n",
      "50%         2.0  10.500000  2025-01-02 00:00:00\n",
      "75%         3.0  11.375000  2025-01-03 00:00:00\n",
      "max         4.0  12.500000  2025-01-04 00:00:00\n",
      "std    1.527525   1.322876                  NaN\n",
      "\n",
      "DESCRIBE (all):\n",
      "                A          B    C                    D\n",
      "count        3.0   4.000000    4                    3\n",
      "unique      <NA>        NaN    3                  NaN\n",
      "top         <NA>        NaN    y                  NaN\n",
      "freq        <NA>        NaN    2                  NaN\n",
      "mean    2.333333  10.750000  NaN  2025-01-02 08:00:00\n",
      "...          ...        ...  ...                  ...\n",
      "25%          1.5   9.875000  NaN  2025-01-01 12:00:00\n",
      "50%          2.0  10.500000  NaN  2025-01-02 00:00:00\n",
      "75%          3.0  11.375000  NaN  2025-01-03 00:00:00\n",
      "max          4.0  12.500000  NaN  2025-01-04 00:00:00\n",
      "std     1.527525   1.322876  NaN                  NaN\n",
      "\n",
      "[11 rows x 4 columns]\n",
      "\n",
      "Missing values per column:\n",
      " A    1\n",
      "B    0\n",
      "C    0\n",
      "D    1\n",
      "dtype: int64\n",
      "\n",
      "Unique counts:\n",
      " A    4\n",
      "B    4\n",
      "C    3\n",
      "D    4\n",
      "dtype: int64\n"
     ]
    }
   ],
   "source": [
    "import pandas as pd\n",
    "\n",
    "pd.options.display.max_rows = 10\n",
    "pd.options.display.width = 100\n",
    "\n",
    "df = pd.DataFrame({\n",
    "    \"A\": pd.Series([1, 2, pd.NA, 4], dtype=\"Int64\"),\n",
    "    \"B\": [10.0, 12.5, 9.5, 11.0],\n",
    "    \"C\": pd.Series([\"x\", \"y\", \"y\", \"z\"], dtype=\"string\"),\n",
    "    \"D\": pd.to_datetime([\"2025-01-01\", \"2025-01-02\", None, \"2025-01-04\"])\n",
    "})\n",
    "\n",
    "print(\"shape:\", df.shape)\n",
    "print(\"columns:\", df.columns.tolist())\n",
    "print(\"dtypes:\\n\", df.dtypes)\n",
    "\n",
    "print(\"\\nHEAD:\\n\", df.head(3))\n",
    "print(\"\\nINFO:\")\n",
    "df.info(memory_usage=\"deep\")\n",
    "\n",
    "print(\"\\nDESCRIBE (numeric):\\n\", df.describe())\n",
    "print(\"\\nDESCRIBE (all):\\n\", df.describe(include=\"all\"))\n",
    "\n",
    "print(\"\\nMissing values per column:\\n\", df.isna().sum())\n",
    "print(\"\\nUnique counts:\\n\", df.nunique(dropna=False))\n"
   ]
  },
  {
   "cell_type": "code",
   "execution_count": null,
   "id": "5df75676",
   "metadata": {},
   "outputs": [],
   "source": []
  }
 ],
 "metadata": {
  "kernelspec": {
   "display_name": "Python 3",
   "language": "python",
   "name": "python3"
  },
  "language_info": {
   "codemirror_mode": {
    "name": "ipython",
    "version": 3
   },
   "file_extension": ".py",
   "mimetype": "text/x-python",
   "name": "python",
   "nbconvert_exporter": "python",
   "pygments_lexer": "ipython3",
   "version": "3.12.1"
  }
 },
 "nbformat": 4,
 "nbformat_minor": 5
}
